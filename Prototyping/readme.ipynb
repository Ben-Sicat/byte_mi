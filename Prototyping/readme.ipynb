{
 "cells": [
  {
   "cell_type": "markdown",
   "metadata": {},
   "source": [
    "`Portotyping/`  \n",
    "│  \n",
    "├── `data`/  \n",
    "│   ├── `train`/  \n",
    "│   │   ├── images/  \n",
    "│   │   └── annotations/  \n",
    "│   ├── `val`/  \n",
    "│   │   ├── images/  \n",
    "│   │   └── annotations/  \n",
    "│   └── `test`/  \n",
    "│       └── images/  \n",
    "│  \n",
    "├── `models`/  \n",
    "│   ├── pretrained_mask_rcnn.h5  \n",
    "│   └── trained_food_segmentation_classification_model.h5  \n",
    "│  \n",
    "├── `notebooks`/  \n",
    "│   ├── data_preprocessing.ipynb  \n",
    "│   ├── model_training.ipynb  \n",
    "│   ├── model_evaluation.ipynb  \n",
    "│   └── inference_demo.ipynb  \n",
    "│  \n",
    "├── `src`/  \n",
    "│   ├── data_preprocessing.py  \n",
    "│   ├── model.py  \n",
    "│   └── inference.py  \n",
    "│  \n",
    "└── `requirements.txt`  \n"
   ]
  },
  {
   "cell_type": "markdown",
   "metadata": {},
   "source": [
    "\n",
    "| Directory       | Description                                                                                                   |\n",
    "|-----------------|---------------------------------------------------------------------------------------------------------------|\n",
    "| `data/`         | Contains subdirectories for organizing your data into different sets.                                         |\n",
    "|                 | - `train/`: Contains training data, including images and their corresponding annotations.                      |\n",
    "|                 | - `val/`: Holds validation data used for evaluating the model during training. Similar to the training set.  |\n",
    "|                 | - `test/`: Contains images for testing the trained model's performance. Typically doesn't include annotations. |\n",
    "| `models/`       | Used for storing model weights.                                                                              |\n",
    "|                 | - `pretrained_mask_rcnn.h5`: Pre-trained weights for the Mask R-CNN model.                                    |\n",
    "|                 | - `trained_food_segmentation_classification_model.h5`: Weights of your trained model after training.          |\n",
    "| `notebooks/`    | Contains Jupyter notebooks for various project stages.                                                        |\n",
    "|                 | - `data_preprocessing.ipynb`: Details preprocessing steps for data.                                           |\n",
    "|                 | - `model_training.ipynb`: Code for training the Mask R-CNN model.                                             |\n",
    "|                 | - `model_evaluation.ipynb`: Evaluates the model's performance on validation data.                              |\n",
    "|                 | - `inference_demo.ipynb`: Demonstrates model inference on new images.                                          |\n",
    "| `src/`          | Source code directory for project tasks.                                                                      |\n",
    "|                 | - `data_preprocessing.py`: Contains functions and classes for preprocessing data.                             |\n",
    "|                 | - `model.py`: Defines the architecture of the Mask R-CNN model for food segmentation and classification.     |\n",
    "|                 | - `inference.py`: Contains functions for running inference with the trained model on new images.             |\n",
    "| `requirements.txt` | Lists all Python dependencies required for the project.                                                       |\n",
    "\n"
   ]
  }
 ],
 "metadata": {
  "language_info": {
   "name": "python"
  }
 },
 "nbformat": 4,
 "nbformat_minor": 2
}
